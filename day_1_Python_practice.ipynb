{
 "cells": [
  {
   "cell_type": "code",
   "execution_count": 3,
   "id": "3adcd2bb-6a1d-443f-87be-89be021ddd20",
   "metadata": {},
   "outputs": [],
   "source": [
    "import pandas as pd\n",
    "import numpy as np\n",
    "import matplotlib.pyplot as plt"
   ]
  },
  {
   "cell_type": "code",
   "execution_count": 4,
   "id": "8318be56-717f-44e6-b5e8-694bd9567a40",
   "metadata": {},
   "outputs": [],
   "source": [
    "df = pd.read_csv('Countries_of_the_world_1970 - imputed_international_data_70.csv')"
   ]
  },
  {
   "cell_type": "code",
   "execution_count": 5,
   "id": "e93f5d6f-b60e-4a29-93a5-8dd881248629",
   "metadata": {},
   "outputs": [
    {
     "data": {
      "text/plain": [
       "Entity                                                   object\n",
       "indiv_libs_vdem_owid                                    float64\n",
       "electdem_vdem_owid                                      float64\n",
       "libdem_vdem_owid                                        float64\n",
       "Countries                                                object\n",
       "Economic.Freedom.Summary.Index                          float64\n",
       "Government.consumption                                  float64\n",
       "Transfers.and.subsidies                                 float64\n",
       "Government.investment                                   float64\n",
       "State.ownership.of.assets                               float64\n",
       "Size.of.Government                                      float64\n",
       "Judicial.independence                                   float64\n",
       "Impartial.courts                                        float64\n",
       "Integrity.of.the.legal.system                           float64\n",
       "Legal.enforcement.of.contracts                          float64\n",
       "Gender.Legal.Rights.Adjustment                          float64\n",
       "Legal.System...Property.Rights                          float64\n",
       "Money.growth                                            float64\n",
       "Standard.deviation.of.inflation                         float64\n",
       "Inflation..Most.recent.year                             float64\n",
       "Freedom.to.own.foreign.currency.bank.accounts           float64\n",
       "Sound.Money                                             float64\n",
       "Revenue.from.trade.taxes....of.trade.sector.            float64\n",
       "Tariffs                                                 float64\n",
       "Black.market.exchange.rates                             float64\n",
       "Financial.Openness                                      float64\n",
       "Capital.controls                                        float64\n",
       "Controls.of.the.movement.of.capital.and.people          float64\n",
       "Freedom.to.trade.Internationally                        float64\n",
       "Ownership.of.banks                                      float64\n",
       "Private.sector.credit                                   float64\n",
       "Interest.rate.controls.negative.real.interest.rates.    float64\n",
       "Credit.market.regulations                               float64\n",
       "Centralized.collective.bargaining                       float64\n",
       "Hours.Regulations                                       float64\n",
       "Conscription                                            float64\n",
       "Labor.market.regulations                                float64\n",
       "Impartial.Public.Administration                         float64\n",
       "Regulation                                              float64\n",
       "alliance                                                 object\n",
       "regimenarrowcat                                         float64\n",
       "Regime_type                                              object\n",
       "id                                                        int64\n",
       "dtype: object"
      ]
     },
     "execution_count": 5,
     "metadata": {},
     "output_type": "execute_result"
    }
   ],
   "source": [
    "df.dtypes"
   ]
  },
  {
   "cell_type": "code",
   "execution_count": null,
   "id": "73d1b7f9-00e6-461b-ba9f-2dd5422c1eb5",
   "metadata": {},
   "outputs": [],
   "source": [
    "df[df.columns"
   ]
  },
  {
   "cell_type": "code",
   "execution_count": null,
   "id": "44e25783-a7aa-4f0c-9384-28c7d1b74540",
   "metadata": {},
   "outputs": [],
   "source": [
    "(df.groupby('Regime_type'))"
   ]
  },
  {
   "cell_type": "code",
   "execution_count": null,
   "id": "dd03a1e0-8514-4265-b8be-ad1737519d5d",
   "metadata": {},
   "outputs": [],
   "source": [
    "def classify_number(number, lower, upper):\n",
    "    if number < lower:\n",
    "        return 'small'\n",
    "    elif number>= lower and number < upper:\n",
    "        return"
   ]
  }
 ],
 "metadata": {
  "kernelspec": {
   "display_name": "Python 3 (ipykernel)",
   "language": "python",
   "name": "python3"
  },
  "language_info": {
   "codemirror_mode": {
    "name": "ipython",
    "version": 3
   },
   "file_extension": ".py",
   "mimetype": "text/x-python",
   "name": "python",
   "nbconvert_exporter": "python",
   "pygments_lexer": "ipython3",
   "version": "3.11.4"
  }
 },
 "nbformat": 4,
 "nbformat_minor": 5
}
